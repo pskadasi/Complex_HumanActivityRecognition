{
  "nbformat": 4,
  "nbformat_minor": 0,
  "metadata": {
    "colab": {
      "name": "modelling_activity_final.ipynb",
      "version": "0.3.2",
      "provenance": [],
      "collapsed_sections": []
    },
    "language_info": {
      "codemirror_mode": {
        "name": "ipython",
        "version": 3
      },
      "file_extension": ".py",
      "mimetype": "text/x-python",
      "name": "python",
      "nbconvert_exporter": "python",
      "pygments_lexer": "ipython3",
      "version": "3.6.5"
    },
    "kernelspec": {
      "name": "python3",
      "display_name": "Python 3"
    },
    "accelerator": "GPU"
  },
  "cells": [
    {
      "cell_type": "code",
      "metadata": {
        "id": "l1TMonBUASMB",
        "colab_type": "code",
        "colab": {}
      },
      "source": [
        "%matplotlib inline\n",
        "import warnings\n",
        "warnings.filterwarnings(\"ignore\")\n",
        "\n",
        "\n",
        "\n",
        "import pandas as pd\n",
        "import seaborn as sns\n",
        "import matplotlib.pyplot as plt\n",
        "import numpy as np\n",
        "from sklearn.model_selection import train_test_split\n",
        "\n",
        "import math as m"
      ],
      "execution_count": 0,
      "outputs": []
    },
    {
      "cell_type": "code",
      "metadata": {
        "id": "CdPAgsTdAr64",
        "colab_type": "code",
        "outputId": "79cf9157-3d6a-4a27-ede8-b41edf17f992",
        "colab": {
          "base_uri": "https://localhost:8080/",
          "height": 124
        }
      },
      "source": [
        "from google.colab import drive\n",
        "drive.mount('/content/gdrive')"
      ],
      "execution_count": 2,
      "outputs": [
        {
          "output_type": "stream",
          "text": [
            "Go to this URL in a browser: https://accounts.google.com/o/oauth2/auth?client_id=947318989803-6bn6qk8qdgf4n4g3pfee6491hc0brc4i.apps.googleusercontent.com&redirect_uri=urn%3Aietf%3Awg%3Aoauth%3A2.0%3Aoob&scope=email%20https%3A%2F%2Fwww.googleapis.com%2Fauth%2Fdocs.test%20https%3A%2F%2Fwww.googleapis.com%2Fauth%2Fdrive%20https%3A%2F%2Fwww.googleapis.com%2Fauth%2Fdrive.photos.readonly%20https%3A%2F%2Fwww.googleapis.com%2Fauth%2Fpeopleapi.readonly&response_type=code\n",
            "\n",
            "Enter your authorization code:\n",
            "··········\n",
            "Mounted at /content/gdrive\n"
          ],
          "name": "stdout"
        }
      ]
    },
    {
      "cell_type": "code",
      "metadata": {
        "id": "MhhYvEHRAlnb",
        "colab_type": "code",
        "colab": {}
      },
      "source": [
        "dataset_url = '/content/gdrive/My Drive/case_studies/UT_Data_Complex/new_df.csv'\n",
        "data = pd.read_csv(dataset_url)\n"
      ],
      "execution_count": 0,
      "outputs": []
    },
    {
      "cell_type": "code",
      "metadata": {
        "id": "GdsZfdNEASUH",
        "colab_type": "code",
        "outputId": "56d3a94d-4188-4531-be66-d8cd9f617702",
        "colab": {
          "base_uri": "https://localhost:8080/",
          "height": 244
        }
      },
      "source": [
        "data.head()"
      ],
      "execution_count": 4,
      "outputs": [
        {
          "output_type": "execute_result",
          "data": {
            "text/html": [
              "<div>\n",
              "<style scoped>\n",
              "    .dataframe tbody tr th:only-of-type {\n",
              "        vertical-align: middle;\n",
              "    }\n",
              "\n",
              "    .dataframe tbody tr th {\n",
              "        vertical-align: top;\n",
              "    }\n",
              "\n",
              "    .dataframe thead th {\n",
              "        text-align: right;\n",
              "    }\n",
              "</style>\n",
              "<table border=\"1\" class=\"dataframe\">\n",
              "  <thead>\n",
              "    <tr style=\"text-align: right;\">\n",
              "      <th></th>\n",
              "      <th>Unnamed: 0</th>\n",
              "      <th>acc_X</th>\n",
              "      <th>acc_Y</th>\n",
              "      <th>acc_Z</th>\n",
              "      <th>linearacc_X</th>\n",
              "      <th>linearacc_Y</th>\n",
              "      <th>linearacc_Z</th>\n",
              "      <th>gyro_X</th>\n",
              "      <th>gyro_Y</th>\n",
              "      <th>gyro_Z</th>\n",
              "      <th>mag_X</th>\n",
              "      <th>mag_Y</th>\n",
              "      <th>mag_Z</th>\n",
              "      <th>labels</th>\n",
              "      <th>Activity_Name</th>\n",
              "      <th>velx</th>\n",
              "      <th>vely</th>\n",
              "      <th>velz</th>\n",
              "      <th>distx</th>\n",
              "      <th>disty</th>\n",
              "      <th>distz</th>\n",
              "      <th>mag_vel</th>\n",
              "      <th>mag_dist</th>\n",
              "      <th>mag_acc</th>\n",
              "      <th>mag_lacc</th>\n",
              "      <th>mag_gyro</th>\n",
              "      <th>mag_magnet</th>\n",
              "      <th>jerkx</th>\n",
              "      <th>jerky</th>\n",
              "      <th>jerkz</th>\n",
              "      <th>mag_jerk</th>\n",
              "      <th>gjerkx</th>\n",
              "      <th>gjerky</th>\n",
              "      <th>gjerkz</th>\n",
              "      <th>mag_gjerk</th>\n",
              "    </tr>\n",
              "  </thead>\n",
              "  <tbody>\n",
              "    <tr>\n",
              "      <th>0</th>\n",
              "      <td>0</td>\n",
              "      <td>-5.924900</td>\n",
              "      <td>-10.978</td>\n",
              "      <td>1.00790</td>\n",
              "      <td>-5.3538</td>\n",
              "      <td>-1.2218</td>\n",
              "      <td>1.82100</td>\n",
              "      <td>-3.6328</td>\n",
              "      <td>-0.64599</td>\n",
              "      <td>-0.56016</td>\n",
              "      <td>21.12</td>\n",
              "      <td>42.60</td>\n",
              "      <td>15.78</td>\n",
              "      <td>11111</td>\n",
              "      <td>walk</td>\n",
              "      <td>0.000000</td>\n",
              "      <td>0.000000</td>\n",
              "      <td>0.000000</td>\n",
              "      <td>0.000000</td>\n",
              "      <td>0.000000</td>\n",
              "      <td>0.000000</td>\n",
              "      <td>0.000000</td>\n",
              "      <td>0.000000</td>\n",
              "      <td>12.515462</td>\n",
              "      <td>5.785500</td>\n",
              "      <td>3.732066</td>\n",
              "      <td>50.098132</td>\n",
              "      <td>-51.75500</td>\n",
              "      <td>200.90000</td>\n",
              "      <td>-398.39500</td>\n",
              "      <td>449.174761</td>\n",
              "      <td>33.855</td>\n",
              "      <td>-115.4855</td>\n",
              "      <td>-119.7770</td>\n",
              "      <td>169.792790</td>\n",
              "    </tr>\n",
              "    <tr>\n",
              "      <th>1</th>\n",
              "      <td>1</td>\n",
              "      <td>-6.960000</td>\n",
              "      <td>-12.136</td>\n",
              "      <td>0.28603</td>\n",
              "      <td>-5.4353</td>\n",
              "      <td>-2.4642</td>\n",
              "      <td>0.84062</td>\n",
              "      <td>-2.9557</td>\n",
              "      <td>-0.34147</td>\n",
              "      <td>-0.60598</td>\n",
              "      <td>20.82</td>\n",
              "      <td>42.60</td>\n",
              "      <td>16.74</td>\n",
              "      <td>11111</td>\n",
              "      <td>walk</td>\n",
              "      <td>-0.107076</td>\n",
              "      <td>-0.024436</td>\n",
              "      <td>0.036420</td>\n",
              "      <td>-0.001071</td>\n",
              "      <td>-0.000244</td>\n",
              "      <td>0.000364</td>\n",
              "      <td>0.115710</td>\n",
              "      <td>0.001157</td>\n",
              "      <td>13.993066</td>\n",
              "      <td>6.026725</td>\n",
              "      <td>3.036441</td>\n",
              "      <td>50.283795</td>\n",
              "      <td>149.82500</td>\n",
              "      <td>408.62500</td>\n",
              "      <td>-212.47650</td>\n",
              "      <td>484.322397</td>\n",
              "      <td>49.070</td>\n",
              "      <td>-81.6415</td>\n",
              "      <td>-68.4160</td>\n",
              "      <td>117.277229</td>\n",
              "    </tr>\n",
              "    <tr>\n",
              "      <th>2</th>\n",
              "      <td>2</td>\n",
              "      <td>-3.963500</td>\n",
              "      <td>-15.568</td>\n",
              "      <td>-3.37780</td>\n",
              "      <td>-2.3250</td>\n",
              "      <td>-5.9283</td>\n",
              "      <td>-2.62940</td>\n",
              "      <td>-1.9743</td>\n",
              "      <td>-2.27580</td>\n",
              "      <td>-0.76908</td>\n",
              "      <td>20.64</td>\n",
              "      <td>42.36</td>\n",
              "      <td>17.34</td>\n",
              "      <td>11111</td>\n",
              "      <td>walk</td>\n",
              "      <td>-0.215782</td>\n",
              "      <td>-0.073720</td>\n",
              "      <td>0.053232</td>\n",
              "      <td>-0.001108</td>\n",
              "      <td>-0.000498</td>\n",
              "      <td>0.000175</td>\n",
              "      <td>0.234158</td>\n",
              "      <td>0.001228</td>\n",
              "      <td>16.415891</td>\n",
              "      <td>6.889420</td>\n",
              "      <td>3.109439</td>\n",
              "      <td>50.210107</td>\n",
              "      <td>195.45095</td>\n",
              "      <td>775.67595</td>\n",
              "      <td>166.16595</td>\n",
              "      <td>816.997782</td>\n",
              "      <td>-38.225</td>\n",
              "      <td>-23.1500</td>\n",
              "      <td>-98.4860</td>\n",
              "      <td>108.150660</td>\n",
              "    </tr>\n",
              "    <tr>\n",
              "      <th>3</th>\n",
              "      <td>3</td>\n",
              "      <td>-0.054481</td>\n",
              "      <td>-15.677</td>\n",
              "      <td>-4.44020</td>\n",
              "      <td>1.2882</td>\n",
              "      <td>-6.0468</td>\n",
              "      <td>-3.16490</td>\n",
              "      <td>-2.7388</td>\n",
              "      <td>-3.08000</td>\n",
              "      <td>-0.89247</td>\n",
              "      <td>20.40</td>\n",
              "      <td>42.06</td>\n",
              "      <td>18.36</td>\n",
              "      <td>11111</td>\n",
              "      <td>walk</td>\n",
              "      <td>-0.262282</td>\n",
              "      <td>-0.192286</td>\n",
              "      <td>0.000644</td>\n",
              "      <td>-0.000487</td>\n",
              "      <td>-0.001196</td>\n",
              "      <td>-0.000522</td>\n",
              "      <td>0.325217</td>\n",
              "      <td>0.001393</td>\n",
              "      <td>16.293762</td>\n",
              "      <td>6.945491</td>\n",
              "      <td>4.217099</td>\n",
              "      <td>50.222437</td>\n",
              "      <td>20.43055</td>\n",
              "      <td>801.55650</td>\n",
              "      <td>239.71650</td>\n",
              "      <td>836.883642</td>\n",
              "      <td>-0.155</td>\n",
              "      <td>16.9050</td>\n",
              "      <td>-92.4715</td>\n",
              "      <td>94.004156</td>\n",
              "    </tr>\n",
              "    <tr>\n",
              "      <th>4</th>\n",
              "      <td>4</td>\n",
              "      <td>0.354130</td>\n",
              "      <td>-13.048</td>\n",
              "      <td>-2.57420</td>\n",
              "      <td>1.5373</td>\n",
              "      <td>-3.4059</td>\n",
              "      <td>-1.23460</td>\n",
              "      <td>-2.7419</td>\n",
              "      <td>-0.46853</td>\n",
              "      <td>-0.94287</td>\n",
              "      <td>20.34</td>\n",
              "      <td>42.06</td>\n",
              "      <td>19.02</td>\n",
              "      <td>11111</td>\n",
              "      <td>walk</td>\n",
              "      <td>-0.236518</td>\n",
              "      <td>-0.313222</td>\n",
              "      <td>-0.062654</td>\n",
              "      <td>0.000248</td>\n",
              "      <td>-0.001233</td>\n",
              "      <td>-0.000643</td>\n",
              "      <td>0.397460</td>\n",
              "      <td>0.001413</td>\n",
              "      <td>13.304218</td>\n",
              "      <td>3.935439</td>\n",
              "      <td>2.937097</td>\n",
              "      <td>50.443231</td>\n",
              "      <td>-28.60300</td>\n",
              "      <td>641.50350</td>\n",
              "      <td>117.81350</td>\n",
              "      <td>652.859015</td>\n",
              "      <td>36.500</td>\n",
              "      <td>-77.1685</td>\n",
              "      <td>-53.4515</td>\n",
              "      <td>100.718867</td>\n",
              "    </tr>\n",
              "  </tbody>\n",
              "</table>\n",
              "</div>"
            ],
            "text/plain": [
              "   Unnamed: 0     acc_X   acc_Y  ...    gjerky    gjerkz   mag_gjerk\n",
              "0           0 -5.924900 -10.978  ... -115.4855 -119.7770  169.792790\n",
              "1           1 -6.960000 -12.136  ...  -81.6415  -68.4160  117.277229\n",
              "2           2 -3.963500 -15.568  ...  -23.1500  -98.4860  108.150660\n",
              "3           3 -0.054481 -15.677  ...   16.9050  -92.4715   94.004156\n",
              "4           4  0.354130 -13.048  ...  -77.1685  -53.4515  100.718867\n",
              "\n",
              "[5 rows x 35 columns]"
            ]
          },
          "metadata": {
            "tags": []
          },
          "execution_count": 4
        }
      ]
    },
    {
      "cell_type": "code",
      "metadata": {
        "id": "bRRiBD7PASUJ",
        "colab_type": "code",
        "colab": {}
      },
      "source": [
        "data.drop('Unnamed: 0', 1, inplace=True)"
      ],
      "execution_count": 0,
      "outputs": []
    },
    {
      "cell_type": "code",
      "metadata": {
        "id": "_DKPjibNdIiV",
        "colab_type": "code",
        "outputId": "46ab0a8f-9d55-4913-b95e-6efcff96c135",
        "colab": {
          "base_uri": "https://localhost:8080/",
          "height": 132
        }
      },
      "source": [
        "data.head(2)"
      ],
      "execution_count": 6,
      "outputs": [
        {
          "output_type": "execute_result",
          "data": {
            "text/html": [
              "<div>\n",
              "<style scoped>\n",
              "    .dataframe tbody tr th:only-of-type {\n",
              "        vertical-align: middle;\n",
              "    }\n",
              "\n",
              "    .dataframe tbody tr th {\n",
              "        vertical-align: top;\n",
              "    }\n",
              "\n",
              "    .dataframe thead th {\n",
              "        text-align: right;\n",
              "    }\n",
              "</style>\n",
              "<table border=\"1\" class=\"dataframe\">\n",
              "  <thead>\n",
              "    <tr style=\"text-align: right;\">\n",
              "      <th></th>\n",
              "      <th>acc_X</th>\n",
              "      <th>acc_Y</th>\n",
              "      <th>acc_Z</th>\n",
              "      <th>linearacc_X</th>\n",
              "      <th>linearacc_Y</th>\n",
              "      <th>linearacc_Z</th>\n",
              "      <th>gyro_X</th>\n",
              "      <th>gyro_Y</th>\n",
              "      <th>gyro_Z</th>\n",
              "      <th>mag_X</th>\n",
              "      <th>mag_Y</th>\n",
              "      <th>mag_Z</th>\n",
              "      <th>labels</th>\n",
              "      <th>Activity_Name</th>\n",
              "      <th>velx</th>\n",
              "      <th>vely</th>\n",
              "      <th>velz</th>\n",
              "      <th>distx</th>\n",
              "      <th>disty</th>\n",
              "      <th>distz</th>\n",
              "      <th>mag_vel</th>\n",
              "      <th>mag_dist</th>\n",
              "      <th>mag_acc</th>\n",
              "      <th>mag_lacc</th>\n",
              "      <th>mag_gyro</th>\n",
              "      <th>mag_magnet</th>\n",
              "      <th>jerkx</th>\n",
              "      <th>jerky</th>\n",
              "      <th>jerkz</th>\n",
              "      <th>mag_jerk</th>\n",
              "      <th>gjerkx</th>\n",
              "      <th>gjerky</th>\n",
              "      <th>gjerkz</th>\n",
              "      <th>mag_gjerk</th>\n",
              "    </tr>\n",
              "  </thead>\n",
              "  <tbody>\n",
              "    <tr>\n",
              "      <th>0</th>\n",
              "      <td>-5.9249</td>\n",
              "      <td>-10.978</td>\n",
              "      <td>1.00790</td>\n",
              "      <td>-5.3538</td>\n",
              "      <td>-1.2218</td>\n",
              "      <td>1.82100</td>\n",
              "      <td>-3.6328</td>\n",
              "      <td>-0.64599</td>\n",
              "      <td>-0.56016</td>\n",
              "      <td>21.12</td>\n",
              "      <td>42.6</td>\n",
              "      <td>15.78</td>\n",
              "      <td>11111</td>\n",
              "      <td>walk</td>\n",
              "      <td>0.000000</td>\n",
              "      <td>0.000000</td>\n",
              "      <td>0.00000</td>\n",
              "      <td>0.000000</td>\n",
              "      <td>0.000000</td>\n",
              "      <td>0.000000</td>\n",
              "      <td>0.00000</td>\n",
              "      <td>0.000000</td>\n",
              "      <td>12.515462</td>\n",
              "      <td>5.785500</td>\n",
              "      <td>3.732066</td>\n",
              "      <td>50.098132</td>\n",
              "      <td>-51.755</td>\n",
              "      <td>200.900</td>\n",
              "      <td>-398.3950</td>\n",
              "      <td>449.174761</td>\n",
              "      <td>33.855</td>\n",
              "      <td>-115.4855</td>\n",
              "      <td>-119.777</td>\n",
              "      <td>169.792790</td>\n",
              "    </tr>\n",
              "    <tr>\n",
              "      <th>1</th>\n",
              "      <td>-6.9600</td>\n",
              "      <td>-12.136</td>\n",
              "      <td>0.28603</td>\n",
              "      <td>-5.4353</td>\n",
              "      <td>-2.4642</td>\n",
              "      <td>0.84062</td>\n",
              "      <td>-2.9557</td>\n",
              "      <td>-0.34147</td>\n",
              "      <td>-0.60598</td>\n",
              "      <td>20.82</td>\n",
              "      <td>42.6</td>\n",
              "      <td>16.74</td>\n",
              "      <td>11111</td>\n",
              "      <td>walk</td>\n",
              "      <td>-0.107076</td>\n",
              "      <td>-0.024436</td>\n",
              "      <td>0.03642</td>\n",
              "      <td>-0.001071</td>\n",
              "      <td>-0.000244</td>\n",
              "      <td>0.000364</td>\n",
              "      <td>0.11571</td>\n",
              "      <td>0.001157</td>\n",
              "      <td>13.993066</td>\n",
              "      <td>6.026725</td>\n",
              "      <td>3.036441</td>\n",
              "      <td>50.283795</td>\n",
              "      <td>149.825</td>\n",
              "      <td>408.625</td>\n",
              "      <td>-212.4765</td>\n",
              "      <td>484.322397</td>\n",
              "      <td>49.070</td>\n",
              "      <td>-81.6415</td>\n",
              "      <td>-68.416</td>\n",
              "      <td>117.277229</td>\n",
              "    </tr>\n",
              "  </tbody>\n",
              "</table>\n",
              "</div>"
            ],
            "text/plain": [
              "    acc_X   acc_Y    acc_Z  linearacc_X  ...  gjerkx    gjerky   gjerkz   mag_gjerk\n",
              "0 -5.9249 -10.978  1.00790      -5.3538  ...  33.855 -115.4855 -119.777  169.792790\n",
              "1 -6.9600 -12.136  0.28603      -5.4353  ...  49.070  -81.6415  -68.416  117.277229\n",
              "\n",
              "[2 rows x 34 columns]"
            ]
          },
          "metadata": {
            "tags": []
          },
          "execution_count": 6
        }
      ]
    },
    {
      "cell_type": "markdown",
      "metadata": {
        "id": "faupkvJhd1Vx",
        "colab_type": "text"
      },
      "source": [
        "## Train Test Split"
      ]
    },
    {
      "cell_type": "code",
      "metadata": {
        "id": "WrGovWqcetIV",
        "colab_type": "code",
        "colab": {}
      },
      "source": [
        "y = data['labels'].values\n",
        "X = data.drop(['Activity_Name', 'labels'], 1)"
      ],
      "execution_count": 0,
      "outputs": []
    },
    {
      "cell_type": "code",
      "metadata": {
        "id": "FMXPohhOZThi",
        "colab_type": "code",
        "outputId": "81129d32-feff-4b97-8b93-137474a49a44",
        "colab": {
          "base_uri": "https://localhost:8080/",
          "height": 226
        }
      },
      "source": [
        "X.head()"
      ],
      "execution_count": 10,
      "outputs": [
        {
          "output_type": "execute_result",
          "data": {
            "text/html": [
              "<div>\n",
              "<style scoped>\n",
              "    .dataframe tbody tr th:only-of-type {\n",
              "        vertical-align: middle;\n",
              "    }\n",
              "\n",
              "    .dataframe tbody tr th {\n",
              "        vertical-align: top;\n",
              "    }\n",
              "\n",
              "    .dataframe thead th {\n",
              "        text-align: right;\n",
              "    }\n",
              "</style>\n",
              "<table border=\"1\" class=\"dataframe\">\n",
              "  <thead>\n",
              "    <tr style=\"text-align: right;\">\n",
              "      <th></th>\n",
              "      <th>acc_X</th>\n",
              "      <th>acc_Y</th>\n",
              "      <th>acc_Z</th>\n",
              "      <th>linearacc_X</th>\n",
              "      <th>linearacc_Y</th>\n",
              "      <th>linearacc_Z</th>\n",
              "      <th>gyro_X</th>\n",
              "      <th>gyro_Y</th>\n",
              "      <th>gyro_Z</th>\n",
              "      <th>mag_X</th>\n",
              "      <th>mag_Y</th>\n",
              "      <th>mag_Z</th>\n",
              "      <th>velx</th>\n",
              "      <th>vely</th>\n",
              "      <th>velz</th>\n",
              "      <th>distx</th>\n",
              "      <th>disty</th>\n",
              "      <th>distz</th>\n",
              "      <th>mag_vel</th>\n",
              "      <th>mag_dist</th>\n",
              "      <th>mag_acc</th>\n",
              "      <th>mag_lacc</th>\n",
              "      <th>mag_gyro</th>\n",
              "      <th>mag_magnet</th>\n",
              "      <th>jerkx</th>\n",
              "      <th>jerky</th>\n",
              "      <th>jerkz</th>\n",
              "      <th>mag_jerk</th>\n",
              "      <th>gjerkx</th>\n",
              "      <th>gjerky</th>\n",
              "      <th>gjerkz</th>\n",
              "      <th>mag_gjerk</th>\n",
              "    </tr>\n",
              "  </thead>\n",
              "  <tbody>\n",
              "    <tr>\n",
              "      <th>0</th>\n",
              "      <td>-5.924900</td>\n",
              "      <td>-10.978</td>\n",
              "      <td>1.00790</td>\n",
              "      <td>-5.3538</td>\n",
              "      <td>-1.2218</td>\n",
              "      <td>1.82100</td>\n",
              "      <td>-3.6328</td>\n",
              "      <td>-0.64599</td>\n",
              "      <td>-0.56016</td>\n",
              "      <td>21.12</td>\n",
              "      <td>42.60</td>\n",
              "      <td>15.78</td>\n",
              "      <td>0.000000</td>\n",
              "      <td>0.000000</td>\n",
              "      <td>0.000000</td>\n",
              "      <td>0.000000</td>\n",
              "      <td>0.000000</td>\n",
              "      <td>0.000000</td>\n",
              "      <td>0.000000</td>\n",
              "      <td>0.000000</td>\n",
              "      <td>12.515462</td>\n",
              "      <td>5.785500</td>\n",
              "      <td>3.732066</td>\n",
              "      <td>50.098132</td>\n",
              "      <td>-51.75500</td>\n",
              "      <td>200.90000</td>\n",
              "      <td>-398.39500</td>\n",
              "      <td>449.174761</td>\n",
              "      <td>33.855</td>\n",
              "      <td>-115.4855</td>\n",
              "      <td>-119.7770</td>\n",
              "      <td>169.792790</td>\n",
              "    </tr>\n",
              "    <tr>\n",
              "      <th>1</th>\n",
              "      <td>-6.960000</td>\n",
              "      <td>-12.136</td>\n",
              "      <td>0.28603</td>\n",
              "      <td>-5.4353</td>\n",
              "      <td>-2.4642</td>\n",
              "      <td>0.84062</td>\n",
              "      <td>-2.9557</td>\n",
              "      <td>-0.34147</td>\n",
              "      <td>-0.60598</td>\n",
              "      <td>20.82</td>\n",
              "      <td>42.60</td>\n",
              "      <td>16.74</td>\n",
              "      <td>-0.107076</td>\n",
              "      <td>-0.024436</td>\n",
              "      <td>0.036420</td>\n",
              "      <td>-0.001071</td>\n",
              "      <td>-0.000244</td>\n",
              "      <td>0.000364</td>\n",
              "      <td>0.115710</td>\n",
              "      <td>0.001157</td>\n",
              "      <td>13.993066</td>\n",
              "      <td>6.026725</td>\n",
              "      <td>3.036441</td>\n",
              "      <td>50.283795</td>\n",
              "      <td>149.82500</td>\n",
              "      <td>408.62500</td>\n",
              "      <td>-212.47650</td>\n",
              "      <td>484.322397</td>\n",
              "      <td>49.070</td>\n",
              "      <td>-81.6415</td>\n",
              "      <td>-68.4160</td>\n",
              "      <td>117.277229</td>\n",
              "    </tr>\n",
              "    <tr>\n",
              "      <th>2</th>\n",
              "      <td>-3.963500</td>\n",
              "      <td>-15.568</td>\n",
              "      <td>-3.37780</td>\n",
              "      <td>-2.3250</td>\n",
              "      <td>-5.9283</td>\n",
              "      <td>-2.62940</td>\n",
              "      <td>-1.9743</td>\n",
              "      <td>-2.27580</td>\n",
              "      <td>-0.76908</td>\n",
              "      <td>20.64</td>\n",
              "      <td>42.36</td>\n",
              "      <td>17.34</td>\n",
              "      <td>-0.215782</td>\n",
              "      <td>-0.073720</td>\n",
              "      <td>0.053232</td>\n",
              "      <td>-0.001108</td>\n",
              "      <td>-0.000498</td>\n",
              "      <td>0.000175</td>\n",
              "      <td>0.234158</td>\n",
              "      <td>0.001228</td>\n",
              "      <td>16.415891</td>\n",
              "      <td>6.889420</td>\n",
              "      <td>3.109439</td>\n",
              "      <td>50.210107</td>\n",
              "      <td>195.45095</td>\n",
              "      <td>775.67595</td>\n",
              "      <td>166.16595</td>\n",
              "      <td>816.997782</td>\n",
              "      <td>-38.225</td>\n",
              "      <td>-23.1500</td>\n",
              "      <td>-98.4860</td>\n",
              "      <td>108.150660</td>\n",
              "    </tr>\n",
              "    <tr>\n",
              "      <th>3</th>\n",
              "      <td>-0.054481</td>\n",
              "      <td>-15.677</td>\n",
              "      <td>-4.44020</td>\n",
              "      <td>1.2882</td>\n",
              "      <td>-6.0468</td>\n",
              "      <td>-3.16490</td>\n",
              "      <td>-2.7388</td>\n",
              "      <td>-3.08000</td>\n",
              "      <td>-0.89247</td>\n",
              "      <td>20.40</td>\n",
              "      <td>42.06</td>\n",
              "      <td>18.36</td>\n",
              "      <td>-0.262282</td>\n",
              "      <td>-0.192286</td>\n",
              "      <td>0.000644</td>\n",
              "      <td>-0.000487</td>\n",
              "      <td>-0.001196</td>\n",
              "      <td>-0.000522</td>\n",
              "      <td>0.325217</td>\n",
              "      <td>0.001393</td>\n",
              "      <td>16.293762</td>\n",
              "      <td>6.945491</td>\n",
              "      <td>4.217099</td>\n",
              "      <td>50.222437</td>\n",
              "      <td>20.43055</td>\n",
              "      <td>801.55650</td>\n",
              "      <td>239.71650</td>\n",
              "      <td>836.883642</td>\n",
              "      <td>-0.155</td>\n",
              "      <td>16.9050</td>\n",
              "      <td>-92.4715</td>\n",
              "      <td>94.004156</td>\n",
              "    </tr>\n",
              "    <tr>\n",
              "      <th>4</th>\n",
              "      <td>0.354130</td>\n",
              "      <td>-13.048</td>\n",
              "      <td>-2.57420</td>\n",
              "      <td>1.5373</td>\n",
              "      <td>-3.4059</td>\n",
              "      <td>-1.23460</td>\n",
              "      <td>-2.7419</td>\n",
              "      <td>-0.46853</td>\n",
              "      <td>-0.94287</td>\n",
              "      <td>20.34</td>\n",
              "      <td>42.06</td>\n",
              "      <td>19.02</td>\n",
              "      <td>-0.236518</td>\n",
              "      <td>-0.313222</td>\n",
              "      <td>-0.062654</td>\n",
              "      <td>0.000248</td>\n",
              "      <td>-0.001233</td>\n",
              "      <td>-0.000643</td>\n",
              "      <td>0.397460</td>\n",
              "      <td>0.001413</td>\n",
              "      <td>13.304218</td>\n",
              "      <td>3.935439</td>\n",
              "      <td>2.937097</td>\n",
              "      <td>50.443231</td>\n",
              "      <td>-28.60300</td>\n",
              "      <td>641.50350</td>\n",
              "      <td>117.81350</td>\n",
              "      <td>652.859015</td>\n",
              "      <td>36.500</td>\n",
              "      <td>-77.1685</td>\n",
              "      <td>-53.4515</td>\n",
              "      <td>100.718867</td>\n",
              "    </tr>\n",
              "  </tbody>\n",
              "</table>\n",
              "</div>"
            ],
            "text/plain": [
              "      acc_X   acc_Y    acc_Z  ...    gjerky    gjerkz   mag_gjerk\n",
              "0 -5.924900 -10.978  1.00790  ... -115.4855 -119.7770  169.792790\n",
              "1 -6.960000 -12.136  0.28603  ...  -81.6415  -68.4160  117.277229\n",
              "2 -3.963500 -15.568 -3.37780  ...  -23.1500  -98.4860  108.150660\n",
              "3 -0.054481 -15.677 -4.44020  ...   16.9050  -92.4715   94.004156\n",
              "4  0.354130 -13.048 -2.57420  ...  -77.1685  -53.4515  100.718867\n",
              "\n",
              "[5 rows x 32 columns]"
            ]
          },
          "metadata": {
            "tags": []
          },
          "execution_count": 10
        }
      ]
    },
    {
      "cell_type": "code",
      "metadata": {
        "id": "IbGXln5ZEeT7",
        "colab_type": "code",
        "colab": {
          "base_uri": "https://localhost:8080/",
          "height": 34
        },
        "outputId": "4d57aeab-a0fa-4216-f765-6eecb8007246"
      },
      "source": [
        "len(data)"
      ],
      "execution_count": 7,
      "outputs": [
        {
          "output_type": "execute_result",
          "data": {
            "text/plain": [
              "1169999"
            ]
          },
          "metadata": {
            "tags": []
          },
          "execution_count": 7
        }
      ]
    },
    {
      "cell_type": "code",
      "metadata": {
        "id": "GaTr3CQSnSgg",
        "colab_type": "code",
        "colab": {}
      },
      "source": [
        "XT_train, XT_test, yT_train, yT_test = train_test_split(X, y, test_size=0.1, stratify=y)\n"
      ],
      "execution_count": 0,
      "outputs": []
    },
    {
      "cell_type": "code",
      "metadata": {
        "id": "ZkuoJ1N5gXTc",
        "colab_type": "code",
        "colab": {
          "base_uri": "https://localhost:8080/",
          "height": 52
        },
        "outputId": "5e680fc7-c78c-4371-cc6b-624231cbbecb"
      },
      "source": [
        "print('X_train and y_train : ({},{})'.format(XT_train.shape, yT_train.shape))\n",
        "print('X_test  and y_test  : ({},{})'.format(XT_test.shape, yT_test.shape))"
      ],
      "execution_count": 15,
      "outputs": [
        {
          "output_type": "stream",
          "text": [
            "X_train and y_train : ((1052999, 32),(1052999,))\n",
            "X_test  and y_test  : ((117000, 32),(117000,))\n"
          ],
          "name": "stdout"
        }
      ]
    },
    {
      "cell_type": "code",
      "metadata": {
        "id": "-8yyAqbkdVFc",
        "colab_type": "code",
        "colab": {}
      },
      "source": [
        "# please write all the code with proper documentation, and proper titles for each subsection\n",
        "# go through documentations and blogs before you start coding\n",
        "# first figure out what to do, and then think about how to do.\n",
        "# reading and understanding error messages will be very much helpfull in debugging your code\n",
        "# when you plot any graph make sure you use \n",
        "    # a. Title, that describes your plot, this will be very helpful to the reader\n",
        "    # b. Legends if needed\n",
        "    # c. X-axis label\n",
        "    # d. Y-axis label\n",
        "    \n",
        "    \n",
        "# train test split\n",
        "from sklearn.model_selection import train_test_split\n",
        "X_train, X_test, y_train, y_test = train_test_split(XT_test, yT_test, test_size=0.33, stratify=yT_test)\n",
        "#X_train, X_cv, y_train, y_cv = train_test_split(X_train, y_train, test_size=0.33, stratify=y_train)    "
      ],
      "execution_count": 0,
      "outputs": []
    },
    {
      "cell_type": "code",
      "metadata": {
        "id": "I6EqzJHSnGWf",
        "colab_type": "code",
        "outputId": "e0ef6cd2-2ef7-46b5-d2ec-b1ce57f3ab10",
        "colab": {
          "base_uri": "https://localhost:8080/",
          "height": 52
        }
      },
      "source": [
        "print('X_train and y_train : ({},{})'.format(X_train.shape, y_train.shape))\n",
        "print('X_test  and y_test  : ({},{})'.format(X_test.shape, y_test.shape))"
      ],
      "execution_count": 19,
      "outputs": [
        {
          "output_type": "stream",
          "text": [
            "X_train and y_train : ((78390, 32),(78390,))\n",
            "X_test  and y_test  : ((38610, 32),(38610,))\n"
          ],
          "name": "stdout"
        }
      ]
    },
    {
      "cell_type": "markdown",
      "metadata": {
        "id": "IIWT9y-oow55",
        "colab_type": "text"
      },
      "source": [
        "# Modelling"
      ]
    },
    {
      "cell_type": "code",
      "metadata": {
        "id": "1GGUjiskv_zD",
        "colab_type": "code",
        "colab": {}
      },
      "source": [
        "#X_train['Activity_Name'].value_counts()"
      ],
      "execution_count": 0,
      "outputs": []
    },
    {
      "cell_type": "code",
      "metadata": {
        "id": "LdaRIEXywIIz",
        "colab_type": "code",
        "colab": {}
      },
      "source": [
        ""
      ],
      "execution_count": 0,
      "outputs": []
    },
    {
      "cell_type": "code",
      "metadata": {
        "id": "GKnWwCXdo0P6",
        "colab_type": "code",
        "colab": {}
      },
      "source": [
        "#labels=['walk', 'stand','jog','sit','bike', 'upstairs', 'downstairs', 'type', 'write', 'coffee', 'talk', 'smoke', 'eat']"
      ],
      "execution_count": 0,
      "outputs": []
    },
    {
      "cell_type": "code",
      "metadata": {
        "id": "TzHRyEhtZuv4",
        "colab_type": "code",
        "colab": {}
      },
      "source": [
        "labels = data['labels'].unique()"
      ],
      "execution_count": 0,
      "outputs": []
    },
    {
      "cell_type": "code",
      "metadata": {
        "id": "7igMZKkqZ5JE",
        "colab_type": "code",
        "outputId": "750eca13-c407-48e6-fe12-a7ae3806ed9a",
        "colab": {
          "base_uri": "https://localhost:8080/",
          "height": 52
        }
      },
      "source": [
        "labels"
      ],
      "execution_count": 29,
      "outputs": [
        {
          "output_type": "execute_result",
          "data": {
            "text/plain": [
              "array([11111, 11112, 11113, 11114, 11115, 11116, 11117, 11118, 11119,\n",
              "       11120, 11121, 11122, 11123])"
            ]
          },
          "metadata": {
            "tags": []
          },
          "execution_count": 29
        }
      ]
    },
    {
      "cell_type": "markdown",
      "metadata": {
        "id": "7yuJJfC0n9_o",
        "colab_type": "text"
      },
      "source": [
        "## Function to print Confusion Matrix"
      ]
    },
    {
      "cell_type": "code",
      "metadata": {
        "id": "trmdScCVfcfj",
        "colab_type": "code",
        "colab": {}
      },
      "source": [
        "import itertools\n",
        "import numpy as np\n",
        "import matplotlib.pyplot as plt\n",
        "from sklearn.metrics import confusion_matrix\n",
        "plt.rcParams[\"font.family\"] = 'DejaVu Sans'\n",
        "\n",
        "def plot_confusion_matrix(cm, classes,\n",
        "                          normalize=False,\n",
        "                          title='Confusion matrix',\n",
        "                          cmap=plt.cm.Blues):\n",
        "    if normalize:\n",
        "        cm = cm.astype('float') / cm.sum(axis=1)[:, np.newaxis]\n",
        "\n",
        "    plt.imshow(cm, interpolation='nearest', cmap=cmap)\n",
        "    plt.title(title)\n",
        "    plt.colorbar()\n",
        "    tick_marks = np.arange(len(classes))\n",
        "    plt.xticks(tick_marks, classes, rotation=90)\n",
        "    plt.yticks(tick_marks, classes)\n",
        "\n",
        "    fmt = '.2f' if normalize else 'd'\n",
        "    thresh = cm.max() / 2.\n",
        "    for i, j in itertools.product(range(cm.shape[0]), range(cm.shape[1])):\n",
        "        plt.text(j, i, format(cm[i, j], fmt),\n",
        "                 horizontalalignment=\"center\",\n",
        "                 color=\"white\" if cm[i, j] > thresh else \"black\")\n",
        "\n",
        "    plt.tight_layout()\n",
        "    plt.ylabel('True label')\n",
        "    plt.xlabel('Predicted label')"
      ],
      "execution_count": 0,
      "outputs": []
    },
    {
      "cell_type": "markdown",
      "metadata": {
        "id": "PIUTEPdOoGEg",
        "colab_type": "text"
      },
      "source": [
        "### Generic function to run any model specified"
      ]
    },
    {
      "cell_type": "code",
      "metadata": {
        "id": "UG1fH71afaQM",
        "colab_type": "code",
        "colab": {}
      },
      "source": [
        "from datetime import datetime\n",
        "def perform_model(model, X_train, y_train, X_test, y_test, class_labels, cm_normalize=True, \\\n",
        "                 print_cm=True, cm_cmap=plt.cm.Greens):\n",
        "    \n",
        "    \n",
        "    # to store results at various phases\n",
        "    results = dict()\n",
        "    \n",
        "    # time at which model starts training \n",
        "    train_start_time = datetime.now()\n",
        "    print('training the model..')\n",
        "    model.fit(X_train, y_train)\n",
        "    print('Done \\n \\n')\n",
        "    train_end_time = datetime.now()\n",
        "    results['training_time'] =  train_end_time - train_start_time\n",
        "    print('training_time(HH:MM:SS.ms) - {}\\n\\n'.format(results['training_time']))\n",
        "    \n",
        "    \n",
        "    # predict test data\n",
        "    print('Predicting test data')\n",
        "    test_start_time = datetime.now()\n",
        "    y_pred = model.predict(X_test)\n",
        "    test_end_time = datetime.now()\n",
        "    print('Done \\n \\n')\n",
        "    results['testing_time'] = test_end_time - test_start_time\n",
        "    print('testing time(HH:MM:SS:ms) - {}\\n\\n'.format(results['testing_time']))\n",
        "    results['predicted'] = y_pred\n",
        "   \n",
        "\n",
        "    # calculate overall accuracty of the model\n",
        "    accuracy = metrics.accuracy_score(y_true=y_test, y_pred=y_pred)\n",
        "    # store accuracy in results\n",
        "    results['accuracy'] = accuracy\n",
        "    print('---------------------')\n",
        "    print('|      Accuracy      |')\n",
        "    print('---------------------')\n",
        "    print('\\n    {}\\n\\n'.format(accuracy))\n",
        "    \n",
        "    \n",
        "    # confusion matrix\n",
        "    cm = metrics.confusion_matrix(y_test, y_pred)\n",
        "    results['confusion_matrix'] = cm\n",
        "    if print_cm: \n",
        "        print('--------------------')\n",
        "        print('| Confusion Matrix |')\n",
        "        print('--------------------')\n",
        "        print('\\n {}'.format(cm))\n",
        "        \n",
        "    # plot confusin matrix\n",
        "    plt.figure(figsize=(8,8))\n",
        "    plt.grid(b=False)\n",
        "    plot_confusion_matrix(cm, classes=class_labels, normalize=True, title='Normalized confusion matrix', cmap = cm_cmap)\n",
        "    plt.show()\n",
        "    \n",
        "    # get classification report\n",
        "    print('-------------------------')\n",
        "    print('| Classifiction Report |')\n",
        "    print('-------------------------')\n",
        "    classification_report = metrics.classification_report(y_test, y_pred)\n",
        "    # store report in results\n",
        "    results['classification_report'] = classification_report\n",
        "    print(classification_report)\n",
        "    \n",
        "    # add the trained  model to the results\n",
        "    results['model'] = model\n",
        "    \n",
        "    return results\n",
        "    \n",
        "    "
      ],
      "execution_count": 0,
      "outputs": []
    },
    {
      "cell_type": "code",
      "metadata": {
        "id": "95q4WRM8VuEw",
        "colab_type": "code",
        "colab": {}
      },
      "source": [
        "#labels = data['Activity_Name'].unique()"
      ],
      "execution_count": 0,
      "outputs": []
    },
    {
      "cell_type": "code",
      "metadata": {
        "id": "YpRAsEjnV1wb",
        "colab_type": "code",
        "outputId": "333a5271-3959-413b-ca14-a62e540bebac",
        "colab": {
          "base_uri": "https://localhost:8080/",
          "height": 139
        }
      },
      "source": [
        "data.columns"
      ],
      "execution_count": 24,
      "outputs": [
        {
          "output_type": "execute_result",
          "data": {
            "text/plain": [
              "Index(['acc_X', 'acc_Y', 'acc_Z', 'linearacc_X', 'linearacc_Y', 'linearacc_Z',\n",
              "       'gyro_X', 'gyro_Y', 'gyro_Z', 'mag_X', 'mag_Y', 'mag_Z', 'labels',\n",
              "       'Activity_Name', 'velx', 'vely', 'velz', 'distx', 'disty', 'distz',\n",
              "       'mag_vel', 'mag_dist', 'mag_acc', 'mag_lacc', 'mag_gyro', 'mag_magnet',\n",
              "       'jerkx', 'jerky', 'jerkz', 'mag_jerk', 'gjerkx', 'gjerky', 'gjerkz',\n",
              "       'mag_gjerk'],\n",
              "      dtype='object')"
            ]
          },
          "metadata": {
            "tags": []
          },
          "execution_count": 24
        }
      ]
    },
    {
      "cell_type": "markdown",
      "metadata": {
        "id": "57aqmnK1oMU7",
        "colab_type": "text"
      },
      "source": [
        "### Method to print the gridsearch Attributes"
      ]
    },
    {
      "cell_type": "code",
      "metadata": {
        "id": "n6aE7stOc97E",
        "colab_type": "code",
        "colab": {}
      },
      "source": [
        "def print_grid_search_attributes(model):\n",
        "    # Estimator that gave highest score among all the estimators formed in GridSearch\n",
        "    print('--------------------------')\n",
        "    print('|      Best Estimator     |')\n",
        "    print('--------------------------')\n",
        "    print('\\n\\t{}\\n'.format(model.best_estimator_))\n",
        "\n",
        "\n",
        "    # parameters that gave best results while performing grid search\n",
        "    print('--------------------------')\n",
        "    print('|     Best parameters     |')\n",
        "    print('--------------------------')\n",
        "    print('\\tParameters of best estimator : \\n\\n\\t{}\\n'.format(model.best_params_))\n",
        "\n",
        "\n",
        "    #  number of cross validation splits\n",
        "    print('---------------------------------')\n",
        "    print('|   No of CrossValidation sets   |')\n",
        "    print('--------------------------------')\n",
        "    print('\\n\\tTotal numbre of cross validation sets: {}\\n'.format(model.n_splits_))\n",
        "\n",
        "\n",
        "    # Average cross validated score of the best estimator, from the Grid Search \n",
        "    print('--------------------------')\n",
        "    print('|        Best Score       |')\n",
        "    print('--------------------------')\n",
        "    print('\\n\\tAverage Cross Validate scores of best estimator : \\n\\n\\t{}\\n'.format(model.best_score_))\n",
        "\n",
        "    \n",
        "    "
      ],
      "execution_count": 0,
      "outputs": []
    },
    {
      "cell_type": "markdown",
      "metadata": {
        "id": "n9m38K3oUSaW",
        "colab_type": "text"
      },
      "source": [
        "# Random Forests"
      ]
    },
    {
      "cell_type": "code",
      "metadata": {
        "id": "GvcfSQBmVDMf",
        "colab_type": "code",
        "colab": {}
      },
      "source": [
        "from sklearn import linear_model\n",
        "from sklearn import metrics\n",
        "\n",
        "from sklearn.model_selection import GridSearchCV"
      ],
      "execution_count": 0,
      "outputs": []
    },
    {
      "cell_type": "code",
      "metadata": {
        "id": "p2VqlkIdPQ7N",
        "colab_type": "code",
        "colab": {}
      },
      "source": [
        "feature_names = X_train.columns"
      ],
      "execution_count": 0,
      "outputs": []
    },
    {
      "cell_type": "code",
      "metadata": {
        "id": "CuQUQHyZTvu5",
        "colab_type": "code",
        "colab": {}
      },
      "source": [
        "labels = data['Activity_Name'].unique()"
      ],
      "execution_count": 0,
      "outputs": []
    },
    {
      "cell_type": "code",
      "metadata": {
        "id": "37O25ZGOT1Ty",
        "colab_type": "code",
        "colab": {
          "base_uri": "https://localhost:8080/",
          "height": 52
        },
        "outputId": "a4354ab3-4ac7-4de2-aa54-49971c7e4d93"
      },
      "source": [
        "labels"
      ],
      "execution_count": 38,
      "outputs": [
        {
          "output_type": "execute_result",
          "data": {
            "text/plain": [
              "array(['walk', 'stand', 'jog', 'sit', 'bike', 'upstairs', 'downstairs',\n",
              "       'type', 'write', 'coffee', 'talk', 'smoke', 'eat'], dtype=object)"
            ]
          },
          "metadata": {
            "tags": []
          },
          "execution_count": 38
        }
      ]
    },
    {
      "cell_type": "code",
      "metadata": {
        "id": "t7dyzSkYTtWQ",
        "colab_type": "code",
        "colab": {
          "base_uri": "https://localhost:8080/",
          "height": 1000
        },
        "outputId": "2c186b59-02bf-42cd-a525-6c51e9cdf394"
      },
      "source": [
        "from sklearn.ensemble import RandomForestClassifier\n",
        "params = {'n_estimators': np.arange(10,201,20), 'max_depth':np.arange(3,15,2)}\n",
        "rfc = RandomForestClassifier()\n",
        "rfc_grid = GridSearchCV(rfc, param_grid=params, n_jobs=-1)\n",
        "rfc_grid_results = perform_model(rfc_grid, X_train, y_train, X_test, y_test, class_labels=labels)\n",
        "print_grid_search_attributes(rfc_grid_results['model'])"
      ],
      "execution_count": 39,
      "outputs": [
        {
          "output_type": "stream",
          "text": [
            "training the model..\n",
            "Done \n",
            " \n",
            "\n",
            "training_time(HH:MM:SS.ms) - 0:37:39.971188\n",
            "\n",
            "\n",
            "Predicting test data\n",
            "Done \n",
            " \n",
            "\n",
            "testing time(HH:MM:SS:ms) - 0:00:01.371660\n",
            "\n",
            "\n",
            "---------------------\n",
            "|      Accuracy      |\n",
            "---------------------\n",
            "\n",
            "    0.9977466977466978\n",
            "\n",
            "\n",
            "--------------------\n",
            "| Confusion Matrix |\n",
            "--------------------\n",
            "\n",
            " [[2969    0    1    0    0    0    0    0    0    0    0    0    0]\n",
            " [   0 2942    0    0    0    0    0    0    0    0   28    0    0]\n",
            " [   0    0 2970    0    0    0    0    0    0    0    0    0    0]\n",
            " [   0    0    0 2968    0    0    0    0    0    2    0    0    0]\n",
            " [   0    0    0    0 2967    3    0    0    0    0    0    0    0]\n",
            " [   0    0    0    0    9 2960    1    0    0    0    0    0    0]\n",
            " [   0    0    0    0    2    0 2968    0    0    0    0    0    0]\n",
            " [   0    0    0    0    0    0    0 2948   18    4    0    0    0]\n",
            " [   0    0    0    0    0    0    0    7 2963    0    0    0    0]\n",
            " [   0    0    0    0    0    0    0    0    0 2969    0    0    1]\n",
            " [   0   10    0    0    0    0    0    0    0    0 2960    0    0]\n",
            " [   0    0    1    0    0    0    0    0    0    0    0 2969    0]\n",
            " [   0    0    0    0    0    0    0    0    0    0    0    0 2970]]\n"
          ],
          "name": "stdout"
        },
        {
          "output_type": "display_data",
          "data": {
            "image/png": "[encoded data removed]",
            "text/plain": [
              "<Figure size 576x576 with 2 Axes>"
            ]
          },
          "metadata": {
            "tags": []
          }
        },
        {
          "output_type": "stream",
          "text": [
            "-------------------------\n",
            "| Classifiction Report |\n",
            "-------------------------\n",
            "              precision    recall  f1-score   support\n",
            "\n",
            "       11111       1.00      1.00      1.00      2970\n",
            "       11112       1.00      0.99      0.99      2970\n",
            "       11113       1.00      1.00      1.00      2970\n",
            "       11114       1.00      1.00      1.00      2970\n",
            "       11115       1.00      1.00      1.00      2970\n",
            "       11116       1.00      1.00      1.00      2970\n",
            "       11117       1.00      1.00      1.00      2970\n",
            "       11118       1.00      0.99      1.00      2970\n",
            "       11119       0.99      1.00      1.00      2970\n",
            "       11120       1.00      1.00      1.00      2970\n",
            "       11121       0.99      1.00      0.99      2970\n",
            "       11122       1.00      1.00      1.00      2970\n",
            "       11123       1.00      1.00      1.00      2970\n",
            "\n",
            "    accuracy                           1.00     38610\n",
            "   macro avg       1.00      1.00      1.00     38610\n",
            "weighted avg       1.00      1.00      1.00     38610\n",
            "\n",
            "--------------------------\n",
            "|      Best Estimator     |\n",
            "--------------------------\n",
            "\n",
            "\tRandomForestClassifier(bootstrap=True, class_weight=None, criterion='gini',\n",
            "                       max_depth=13, max_features='auto', max_leaf_nodes=None,\n",
            "                       min_impurity_decrease=0.0, min_impurity_split=None,\n",
            "                       min_samples_leaf=1, min_samples_split=2,\n",
            "                       min_weight_fraction_leaf=0.0, n_estimators=170,\n",
            "                       n_jobs=None, oob_score=False, random_state=None,\n",
            "                       verbose=0, warm_start=False)\n",
            "\n",
            "--------------------------\n",
            "|     Best parameters     |\n",
            "--------------------------\n",
            "\tParameters of best estimator : \n",
            "\n",
            "\t{'max_depth': 13, 'n_estimators': 170}\n",
            "\n",
            "---------------------------------\n",
            "|   No of CrossValidation sets   |\n",
            "--------------------------------\n",
            "\n",
            "\tTotal numbre of cross validation sets: 3\n",
            "\n",
            "--------------------------\n",
            "|        Best Score       |\n",
            "--------------------------\n",
            "\n",
            "\tAverage Cross Validate scores of best estimator : \n",
            "\n",
            "\t0.997767572394438\n",
            "\n"
          ],
          "name": "stdout"
        }
      ]
    },
    {
      "cell_type": "code",
      "metadata": {
        "id": "EcJiw7VlQmyW",
        "colab_type": "code",
        "colab": {
          "base_uri": "https://localhost:8080/",
          "height": 391
        },
        "outputId": "30437a77-a14b-4cc4-8954-be2af8f4cb56"
      },
      "source": [
        "clf = RandomForestClassifier(n_estimators = 170, max_depth = 13, random_state=0, n_jobs=-1)\n",
        "model = clf.fit(X_train, y_train)\n",
        "importances = model.feature_importances_\n",
        "\n",
        "\n",
        "indices = np.argsort(importances)[::-1]\n",
        "\n",
        "# Rearrange feature names so they match the sorted feature importances\n",
        "names = [feature_names[i] for i in indices]\n",
        "\n",
        "# Create plot\n",
        "plt.figure(figsize=(15,5))\n",
        "\n",
        "# Create plot title\n",
        "plt.title(\"Feature Importance\")\n",
        "\n",
        "# Add bars\n",
        "plt.bar(range(X_train.shape[1]), importances[indices])\n",
        "\n",
        "# Add feature names as x-axis labels\n",
        "plt.xticks(range(X.shape[1]), names, rotation=90)\n",
        "\n",
        "# Show plot\n",
        "plt.show()"
      ],
      "execution_count": 40,
      "outputs": [
        {
          "output_type": "display_data",
          "data": {
            "image/png": "[encoded data removed]",
            "text/plain": [
              "<Figure size 1080x360 with 1 Axes>"
            ]
          },
          "metadata": {
            "tags": []
          }
        }
      ]
    },
    {
      "cell_type": "markdown",
      "metadata": {
        "id": "JifuJ1teTU8s",
        "colab_type": "text"
      },
      "source": [
        "# Conclusions"
      ]
    },
    {
      "cell_type": "code",
      "metadata": {
        "id": "DSm6j57KTXDO",
        "colab_type": "code",
        "colab": {
          "base_uri": "https://localhost:8080/",
          "height": 104
        },
        "outputId": "261e1294-d9cb-49e6-ad37-7d6d53e74a51"
      },
      "source": [
        "# Please compare all your models using Prettytable library\n",
        "\n",
        "# Please compare all your models using Prettytable library\n",
        "\n",
        "from prettytable import PrettyTable\n",
        "\n",
        "x = PrettyTable()\n",
        "x.field_names = [\"Model\", \"HyperParameter_1(n_estimators)\", \"HyperParameter_2(max_depth)\", \"Accuracy\"]\n",
        "                 \n",
        "x.add_row([\"RandomForest\", 170, 13, 0.9977])\n",
        "\n",
        "\n",
        "                 \n",
        "print(x)"
      ],
      "execution_count": 46,
      "outputs": [
        {
          "output_type": "stream",
          "text": [
            "+--------------+--------------------------------+-----------------------------+----------+\n",
            "|    Model     | HyperParameter_1(n_estimators) | HyperParameter_2(max_depth) | Accuracy |\n",
            "+--------------+--------------------------------+-----------------------------+----------+\n",
            "| RandomForest |              170               |              13             |  0.9977  |\n",
            "+--------------+--------------------------------+-----------------------------+----------+\n"
          ],
          "name": "stdout"
        }
      ]
    },
    {
      "cell_type": "code",
      "metadata": {
        "id": "xKkcNWNSkU54",
        "colab_type": "code",
        "colab": {
          "base_uri": "https://localhost:8080/",
          "height": 34
        },
        "outputId": "577336b8-baf6-46b6-ecd0-e3d7d52b1cb9"
      },
      "source": [
        "len(data)"
      ],
      "execution_count": 47,
      "outputs": [
        {
          "output_type": "execute_result",
          "data": {
            "text/plain": [
              "1169999"
            ]
          },
          "metadata": {
            "tags": []
          },
          "execution_count": 47
        }
      ]
    },
    {
      "cell_type": "markdown",
      "metadata": {
        "id": "gXDRn6S8iqtm",
        "colab_type": "text"
      },
      "source": [
        "## How i approached this problem ?"
      ]
    },
    {
      "cell_type": "markdown",
      "metadata": {
        "id": "vMMM3eDVkgvR",
        "colab_type": "text"
      },
      "source": [
        "- there are 1169999 data points in the dataset\n",
        "- 10 healthy participants aged 25-35\n",
        "-<font color='blue'> Seven activities were performed by all ten participants </font> which are <font color='red'>walking, jogging, biking, walking upstairs, walking downstairs, sitting and standing</font>. \n",
        "- These activities were performed for <font color='red'>3 min</font> by each participant\n",
        "-  <font color='blue'>Seven out of these ten participants</font> performed <font color='red'> eating, typing, writing, drinking coffee and giving a talk. </font>\n",
        "- These activities were performed for <font color='red'>5–6 min. </font> Smoking was performed by six out of these ten participants, where each of them smoked one cigarette. Only six participants were smokers among the ten participants.\n",
        "- We used 30 min of data for each activity with an equal amount of data from each participant. This\n",
        "resulted in a dataset of 390 (13 × 30) min.\n",
        "- so according to the above data, i divided 1169999 datapoints by 390 minutes which gives 0.02 seconds. so this is the calculated time which we have used in featurization.\n",
        "- i performed eda, then featurization and the modelling as shown in the ipynb.\n"
      ]
    }
  ]
}